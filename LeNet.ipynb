{
 "cells": [
  {
   "cell_type": "code",
   "execution_count": 84,
   "metadata": {},
   "outputs": [],
   "source": [
    "import numpy as np\n",
    "import cv2\n",
    "from keras.models import Sequential\n",
    "from keras.layers.convolutional import Conv2D\n",
    "from keras.layers.convolutional import MaxPooling2D\n",
    "from keras.layers.core import Activation\n",
    "from keras.layers.core import Flatten\n",
    "from keras.layers.core import Dense\n",
    "from keras import backend as K\n",
    "from keras.optimizers import SGD\n",
    "from keras.datasets import mnist\n",
    "from keras.utils import np_utils\n",
    "from keras import backend as K\n",
    "from sklearn.preprocessing import LabelBinarizer\n",
    "from sklearn.model_selection import train_test_split\n",
    "from sklearn.metrics import classification_report\n",
    "from sklearn.datasets import fetch_mldata\n",
    "import matplotlib.pyplot as plt"
   ]
  },
  {
   "cell_type": "code",
   "execution_count": 66,
   "metadata": {},
   "outputs": [],
   "source": [
    "class LeNet:\n",
    "    @staticmethod\n",
    "    def build(width, height, depth, classes):\n",
    "        model = Sequential()\n",
    "        inputShape = (width, height, depth)\n",
    "        if K.image_data_format() == \"channels_first\":\n",
    "            inputShape = (depth, height, width)\n",
    "        model.add(Conv2D(20,(5,5), padding=\"same\", input_shape=inputShape))\n",
    "        model.add(Activation(\"relu\"))\n",
    "        model.add(MaxPooling2D(pool_size=(2,2), strides=(2,2)))\n",
    "        model.add(Conv2D(50,(5,5), padding=\"same\"))\n",
    "        model.add(Activation(\"relu\"))\n",
    "        model.add(MaxPooling2D(pool_size=(2,2), strides=(2,2)))\n",
    "        model.add(Flatten())\n",
    "        model.add(Dense(500))\n",
    "        model.add(Activation(\"relu\"))\n",
    "        model.add(Dense(classes))\n",
    "        model.add(Activation(\"softmax\"))\n",
    "        \n",
    "        return model"
   ]
  },
  {
   "cell_type": "code",
   "execution_count": 100,
   "metadata": {},
   "outputs": [
    {
     "name": "stdout",
     "output_type": "stream",
     "text": [
      "[INFO] training network...\n",
      "Train on 60000 samples, validate on 10000 samples\n",
      "Epoch 1/20\n",
      "60000/60000 [==============================] - 64s 1ms/step - loss: 1.4327 - acc: 0.6474 - val_loss: 0.5323 - val_acc: 0.8379\n",
      "Epoch 2/20\n",
      "60000/60000 [==============================] - 62s 1ms/step - loss: 0.3897 - acc: 0.8833 - val_loss: 0.3333 - val_acc: 0.8915\n",
      "Epoch 3/20\n",
      "60000/60000 [==============================] - 62s 1ms/step - loss: 0.2668 - acc: 0.9215 - val_loss: 0.2335 - val_acc: 0.9343\n",
      "Epoch 4/20\n",
      "60000/60000 [==============================] - 63s 1ms/step - loss: 0.2180 - acc: 0.9358 - val_loss: 0.2004 - val_acc: 0.9409\n",
      "Epoch 5/20\n",
      "60000/60000 [==============================] - 61s 1ms/step - loss: 0.1863 - acc: 0.9453 - val_loss: 0.1928 - val_acc: 0.9418\n",
      "Epoch 6/20\n",
      "60000/60000 [==============================] - 61s 1ms/step - loss: 0.1633 - acc: 0.9513 - val_loss: 0.1409 - val_acc: 0.9583\n",
      "Epoch 7/20\n",
      "60000/60000 [==============================] - 61s 1ms/step - loss: 0.1441 - acc: 0.9575 - val_loss: 0.1422 - val_acc: 0.9569\n",
      "Epoch 8/20\n",
      "60000/60000 [==============================] - 62s 1ms/step - loss: 0.1310 - acc: 0.9614 - val_loss: 0.1244 - val_acc: 0.9608\n",
      "Epoch 9/20\n",
      "60000/60000 [==============================] - 86s 1ms/step - loss: 0.1190 - acc: 0.9649 - val_loss: 0.1259 - val_acc: 0.9602\n",
      "Epoch 10/20\n",
      "60000/60000 [==============================] - 79s 1ms/step - loss: 0.1093 - acc: 0.9673 - val_loss: 0.0955 - val_acc: 0.9697\n",
      "Epoch 11/20\n",
      "60000/60000 [==============================] - 82s 1ms/step - loss: 0.1005 - acc: 0.9700 - val_loss: 0.0964 - val_acc: 0.9717\n",
      "Epoch 12/20\n",
      "60000/60000 [==============================] - 77s 1ms/step - loss: 0.0938 - acc: 0.9722 - val_loss: 0.0821 - val_acc: 0.9746\n",
      "Epoch 13/20\n",
      "60000/60000 [==============================] - 70s 1ms/step - loss: 0.0883 - acc: 0.9737 - val_loss: 0.0971 - val_acc: 0.9691\n",
      "Epoch 14/20\n",
      "60000/60000 [==============================] - 65s 1ms/step - loss: 0.0839 - acc: 0.9747 - val_loss: 0.0722 - val_acc: 0.9790\n",
      "Epoch 15/20\n",
      "60000/60000 [==============================] - 69s 1ms/step - loss: 0.0785 - acc: 0.9759 - val_loss: 0.0728 - val_acc: 0.9789\n",
      "Epoch 16/20\n",
      "60000/60000 [==============================] - 73s 1ms/step - loss: 0.0749 - acc: 0.9772 - val_loss: 0.0985 - val_acc: 0.9688\n",
      "Epoch 17/20\n",
      "60000/60000 [==============================] - 72s 1ms/step - loss: 0.0712 - acc: 0.9786 - val_loss: 0.0933 - val_acc: 0.9710\n",
      "Epoch 18/20\n",
      "60000/60000 [==============================] - 74s 1ms/step - loss: 0.0686 - acc: 0.9788 - val_loss: 0.0822 - val_acc: 0.9741\n",
      "Epoch 19/20\n",
      "60000/60000 [==============================] - 72s 1ms/step - loss: 0.0652 - acc: 0.9802 - val_loss: 0.0628 - val_acc: 0.9817\n",
      "Epoch 20/20\n",
      "60000/60000 [==============================] - 71s 1ms/step - loss: 0.0633 - acc: 0.9804 - val_loss: 0.0623 - val_acc: 0.9800\n"
     ]
    }
   ],
   "source": [
    "(X_train, y_train), (X_test, y_test) = mnist.load_data()\n",
    "if K.image_data_format() == \"channels_first\":\n",
    "    X_train = X_test.reshape(X_train.shape[0], 1, 28, 28)\n",
    "    X_test  = X_test.reshape(X_test.shape[0], 1, 28, 28)\n",
    "else:\n",
    "    X_train = X_train.reshape(X_train.shape[0],28, 28, 1)\n",
    "    X_test  = X_test.reshape(X_test.shape[0],28, 28, 1)\n",
    "# normalize inputs from 0-255 to 0-1\n",
    "X_train = X_train / 255\n",
    "X_test  = X_test / 255\n",
    "# one hot encode outputs\n",
    "y_train = np_utils.to_categorical(y_train)\n",
    "y_test = np_utils.to_categorical(y_test)\n",
    "num_classes = y_test.shape[1]\n",
    "#compile model\n",
    "opt = SGD(lr=0.01)\n",
    "model = LeNet.build(width=28, height=28, depth=1, classes=10)\n",
    "model.compile(loss=\"categorical_crossentropy\", optimizer=opt, metrics=[\"accuracy\"])\n",
    "\n",
    "# train the network\n",
    "print(\"[INFO] training network...\")\n",
    "H = model.fit(X_train, y_train, validation_data=(X_test, y_test), batch_size=256, epochs=20, verbose=1)\n"
   ]
  },
  {
   "cell_type": "code",
   "execution_count": 101,
   "metadata": {},
   "outputs": [
    {
     "name": "stdout",
     "output_type": "stream",
     "text": [
      "[INFO] evaluating network...\n",
      "              precision    recall  f1-score   support\n",
      "\n",
      "           0       0.95      0.99      0.97       980\n",
      "           1       0.98      0.99      0.99      1135\n",
      "           2       0.99      0.97      0.98      1032\n",
      "           3       0.98      0.98      0.98      1010\n",
      "           4       0.98      0.99      0.99       982\n",
      "           5       0.98      0.98      0.98       892\n",
      "           6       0.99      0.98      0.99       958\n",
      "           7       0.98      0.98      0.98      1028\n",
      "           8       0.98      0.97      0.97       974\n",
      "           9       0.99      0.96      0.98      1009\n",
      "\n",
      "   micro avg       0.98      0.98      0.98     10000\n",
      "   macro avg       0.98      0.98      0.98     10000\n",
      "weighted avg       0.98      0.98      0.98     10000\n",
      "\n"
     ]
    }
   ],
   "source": [
    "# evaluate the network\n",
    "print(\"[INFO] evaluating network...\")\n",
    "predictions = model.predict(X_test, batch_size=128)\n",
    "print(classification_report(y_test.argmax(axis=1), predictions.argmax(axis=1),\n",
    "                            target_names = [str(x) for x in range(10)]))"
   ]
  },
  {
   "cell_type": "code",
   "execution_count": 102,
   "metadata": {},
   "outputs": [
    {
     "data": {
      "image/png": "[encoded data removed]",
      "text/plain": [
       "<Figure size 432x288 with 1 Axes>"
      ]
     },
     "metadata": {},
     "output_type": "display_data"
    }
   ],
   "source": [
    "# Plot the training loss and accuracy\n",
    "epochs = 20\n",
    "plt.style.use(\"ggplot\")\n",
    "plt.figure()\n",
    "plt.plot(np.arange(0, epochs), H.history[\"loss\"], label=\"train_loss\")\n",
    "plt.plot(np.arange(0, epochs), H.history[\"val_loss\"], label=\"val_loss\")\n",
    "plt.plot(np.arange(0, epochs), H.history[\"acc\"], label=\"train_acc\")\n",
    "plt.plot(np.arange(0, epochs), H.history[\"val_acc\"], label=\"val_acc\")\n",
    "plt.title(\"Training Loss and Accuracy\")\n",
    "plt.xlabel(\"Epoch #\")\n",
    "plt.ylabel(\"Loss/Accuracy\")\n",
    "plt.legend()\n",
    "plt.show()"
   ]
  },
  {
   "cell_type": "code",
   "execution_count": null,
   "metadata": {},
   "outputs": [],
   "source": []
  }
 ],
 "metadata": {
  "kernelspec": {
   "display_name": "Python 3",
   "language": "python",
   "name": "python3"
  },
  "language_info": {
   "codemirror_mode": {
    "name": "ipython",
    "version": 3
   },
   "file_extension": ".py",
   "mimetype": "text/x-python",
   "name": "python",
   "nbconvert_exporter": "python",
   "pygments_lexer": "ipython3",
   "version": "3.7.3"
  }
 },
 "nbformat": 4,
 "nbformat_minor": 2
}
